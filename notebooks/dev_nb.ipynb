{
 "cells": [
  {
   "cell_type": "code",
   "execution_count": null,
   "id": "6c655a2f-d779-432d-af00-8ce5d8be1f44",
   "metadata": {},
   "outputs": [],
   "source": [
    "%load_ext autoreload\n",
    "%autoreload 2"
   ]
  },
  {
   "cell_type": "code",
   "execution_count": null,
   "id": "59d676f5-dae4-420e-a125-f6d103787d08",
   "metadata": {},
   "outputs": [],
   "source": [
    "import sys, time, pickle, signal\n",
    "from inspect import signature\n",
    "from functools import wraps\n",
    "\n",
    "sys.path.append(\"..\")"
   ]
  },
  {
   "cell_type": "code",
   "execution_count": null,
   "id": "551df210-b84a-4cac-a551-22f77a068795",
   "metadata": {},
   "outputs": [],
   "source": [
    "from deczoo import add_partial"
   ]
  },
  {
   "cell_type": "code",
   "execution_count": null,
   "id": "603d088a-3e73-4289-9346-49197ba59f4c",
   "metadata": {},
   "outputs": [],
   "source": [
    "type(signal.SIGALRM)"
   ]
  },
  {
   "cell_type": "code",
   "execution_count": null,
   "id": "d1c106b5-be2d-45a0-8cd4-5765906e3478",
   "metadata": {},
   "outputs": [],
   "source": [
    "@add_partial\n",
    "def timeout(func=None, time_limit=0, signal_handler=None, signum=14, logging_fn=print):\n",
    "    \n",
    "    print(signum)\n",
    "    if signal_handler is None:\n",
    "        \n",
    "        def signal_handler(signum, frame):\n",
    "            raise Exception(f\"Reached time limit, terminating {func.__name__}\")\n",
    "        \n",
    "        signal.signal(signal.SIGALRM, signal_handler)\n",
    "    \n",
    "    @wraps(func)\n",
    "    def wrapper(*args, **kwargs):\n",
    "    \n",
    "        signal.alarm(time_limit)\n",
    "        \n",
    "        try:\n",
    "            res = func(*args, **kwargs)\n",
    "            signal.alarm(0)\n",
    "            return res\n",
    "        \n",
    "        except Exception as exc: \n",
    "            raise exc\n",
    "    return wrapper"
   ]
  },
  {
   "cell_type": "code",
   "execution_count": null,
   "id": "fc0eb9a6-2a66-4b52-a50d-71a164aaa235",
   "metadata": {},
   "outputs": [],
   "source": [
    "@timeout(time_limit=1)\n",
    "def add(a, b):\n",
    "    time.sleep(2)\n",
    "    return a+b"
   ]
  },
  {
   "cell_type": "code",
   "execution_count": null,
   "id": "0f255ba9-2861-4409-b910-fa164d466efc",
   "metadata": {},
   "outputs": [],
   "source": [
    "add(1,2)"
   ]
  },
  {
   "cell_type": "code",
   "execution_count": null,
   "id": "e743cd5c-7c09-4092-90f0-c2d773adce29",
   "metadata": {},
   "outputs": [],
   "source": []
  }
 ],
 "metadata": {
  "kernelspec": {
   "display_name": "Python 3 (ipykernel)",
   "language": "python",
   "name": "python3"
  },
  "language_info": {
   "codemirror_mode": {
    "name": "ipython",
    "version": 3
   },
   "file_extension": ".py",
   "mimetype": "text/x-python",
   "name": "python",
   "nbconvert_exporter": "python",
   "pygments_lexer": "ipython3",
   "version": "3.8.12"
  }
 },
 "nbformat": 4,
 "nbformat_minor": 5
}
