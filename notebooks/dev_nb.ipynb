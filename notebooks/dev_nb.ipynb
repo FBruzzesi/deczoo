{
 "cells": [
  {
   "cell_type": "code",
   "execution_count": null,
   "id": "6c655a2f-d779-432d-af00-8ce5d8be1f44",
   "metadata": {},
   "outputs": [],
   "source": [
    "%load_ext autoreload\n",
    "%autoreload 2"
   ]
  },
  {
   "cell_type": "code",
   "execution_count": null,
   "id": "59d676f5-dae4-420e-a125-f6d103787d08",
   "metadata": {},
   "outputs": [],
   "source": [
    "import sys\n",
    "from inspect import signature\n",
    "\n",
    "sys.path.append(\"..\")"
   ]
  },
  {
   "cell_type": "code",
   "execution_count": null,
   "id": "551df210-b84a-4cac-a551-22f77a068795",
   "metadata": {},
   "outputs": [],
   "source": [
    "from bodec.function_decorators import *"
   ]
  },
  {
   "cell_type": "code",
   "execution_count": null,
   "id": "53b50276-127e-4da9-ada4-122bc64c67b3",
   "metadata": {},
   "outputs": [],
   "source": [
    "@catch(return_on_exception=3)\n",
    "def add(a, b):\n",
    "    \"\"\"addinggg a b \"\"\"\n",
    "    return a+b"
   ]
  },
  {
   "cell_type": "code",
   "execution_count": null,
   "id": "9483d665-38c1-4214-bd75-df9c5330a65c",
   "metadata": {},
   "outputs": [],
   "source": [
    "add(1,2), add(1,\"a\")"
   ]
  },
  {
   "cell_type": "code",
   "execution_count": null,
   "id": "8c637c22-448c-419e-918f-c76c6fd26fb4",
   "metadata": {},
   "outputs": [],
   "source": [
    "signature(add)"
   ]
  },
  {
   "cell_type": "code",
   "execution_count": null,
   "id": "284af520-710f-4577-9655-c106e7a0f951",
   "metadata": {},
   "outputs": [],
   "source": [
    "help(add)"
   ]
  },
  {
   "cell_type": "code",
   "execution_count": null,
   "id": "c2f25df7-fe0a-40f4-8bb4-d363fe9a2cc0",
   "metadata": {},
   "outputs": [],
   "source": []
  }
 ],
 "metadata": {
  "kernelspec": {
   "display_name": "Python 3 (ipykernel)",
   "language": "python",
   "name": "python3"
  },
  "language_info": {
   "codemirror_mode": {
    "name": "ipython",
    "version": 3
   },
   "file_extension": ".py",
   "mimetype": "text/x-python",
   "name": "python",
   "nbconvert_exporter": "python",
   "pygments_lexer": "ipython3",
   "version": "3.8.12"
  }
 },
 "nbformat": 4,
 "nbformat_minor": 5
}
