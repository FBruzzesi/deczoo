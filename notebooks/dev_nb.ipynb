{
 "cells": [
  {
   "cell_type": "code",
   "execution_count": null,
   "id": "6c655a2f-d779-432d-af00-8ce5d8be1f44",
   "metadata": {},
   "outputs": [],
   "source": [
    "%load_ext autoreload\n",
    "%autoreload 2"
   ]
  },
  {
   "cell_type": "code",
   "execution_count": null,
   "id": "59d676f5-dae4-420e-a125-f6d103787d08",
   "metadata": {},
   "outputs": [],
   "source": [
    "import sys\n",
    "import pickle\n",
    "from inspect import signature\n",
    "\n",
    "sys.path.append(\"..\")"
   ]
  },
  {
   "cell_type": "code",
   "execution_count": null,
   "id": "551df210-b84a-4cac-a551-22f77a068795",
   "metadata": {},
   "outputs": [],
   "source": [
    "from deczoo.function_decorators import *\n",
    "from deczoo.core import add_partial"
   ]
  },
  {
   "cell_type": "code",
   "execution_count": null,
   "id": "53b50276-127e-4da9-ada4-122bc64c67b3",
   "metadata": {},
   "outputs": [],
   "source": [
    "# @catch(return_on_exception=3)\n",
    "# @log(log_args=True, log_time=True, logging_fn=print)\n",
    "# @timer\n",
    "\n",
    "# @call_counter(log_counter=True)\n",
    "# @dump_result(include_args=False, logging_fn=print)\n",
    "\n",
    "@notify_on_end\n",
    "@check_args(a=lambda t: t>0)\n",
    "def add(a, b=2):\n",
    "    \"\"\"addinggg a b \"\"\"\n",
    "    return a+b"
   ]
  },
  {
   "cell_type": "code",
   "execution_count": null,
   "id": "bf6e401b-0a92-4bb5-945f-73e8fbb45b67",
   "metadata": {},
   "outputs": [],
   "source": [
    "for _ in range(3):\n",
    "    add(1, b=2)"
   ]
  },
  {
   "cell_type": "code",
   "execution_count": null,
   "id": "284af520-710f-4577-9655-c106e7a0f951",
   "metadata": {},
   "outputs": [],
   "source": [
    "help(add)"
   ]
  },
  {
   "cell_type": "code",
   "execution_count": null,
   "id": "c2f25df7-fe0a-40f4-8bb4-d363fe9a2cc0",
   "metadata": {},
   "outputs": [],
   "source": [
    "func_args = inspect.signature(add).bind(1, b=3).arguments\n",
    "func_args_str = \"_\".join(f\"{v}\" for k, v in func_args.items())\n",
    "func_args_str"
   ]
  },
  {
   "cell_type": "code",
   "execution_count": null,
   "id": "92017ecb-2b95-4c37-a70e-7abe663845c8",
   "metadata": {},
   "outputs": [],
   "source": [
    "add(-2, 2)"
   ]
  },
  {
   "cell_type": "code",
   "execution_count": null,
   "id": "9f8134c6-8539-4080-9d15-18a411ce681c",
   "metadata": {},
   "outputs": [],
   "source": []
  }
 ],
 "metadata": {
  "kernelspec": {
   "display_name": "Python 3 (ipykernel)",
   "language": "python",
   "name": "python3"
  },
  "language_info": {
   "codemirror_mode": {
    "name": "ipython",
    "version": 3
   },
   "file_extension": ".py",
   "mimetype": "text/x-python",
   "name": "python",
   "nbconvert_exporter": "python",
   "pygments_lexer": "ipython3",
   "version": "3.8.12"
  }
 },
 "nbformat": 4,
 "nbformat_minor": 5
}
